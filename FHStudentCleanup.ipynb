{
  "nbformat": 4,
  "nbformat_minor": 0,
  "metadata": {
    "colab": {
      "provenance": [],
      "mount_file_id": "1cl_hNN2alF5sU3FHK247S2Jva3fyNvsX",
      "authorship_tag": "ABX9TyMcdf4ZMtdkcWV6cvda1ztg",
      "include_colab_link": true
    },
    "kernelspec": {
      "name": "python3",
      "display_name": "Python 3"
    },
    "language_info": {
      "name": "python"
    }
  },
  "cells": [
    {
      "cell_type": "markdown",
      "metadata": {
        "id": "view-in-github",
        "colab_type": "text"
      },
      "source": [
        "<a href=\"https://colab.research.google.com/github/mrarringtonfh/FH_NewUserScripts/blob/main/FHStudentCleanup.ipynb\" target=\"_parent\"><img src=\"https://colab.research.google.com/assets/colab-badge.svg\" alt=\"Open In Colab\"/></a>"
      ]
    },
    {
      "cell_type": "markdown",
      "source": [
        "# Connect to Google Drive\n",
        "This step connects to your Google drive - you must have access to the shared Technology drive."
      ],
      "metadata": {
        "id": "DaIIBDhaVofI"
      }
    },
    {
      "cell_type": "code",
      "source": [
        "from google.colab import drive\n",
        "drive.mount('/content/drive')"
      ],
      "metadata": {
        "colab": {
          "base_uri": "https://localhost:8080/"
        },
        "id": "NpB5jE3gh6j2",
        "outputId": "b4d921e9-83b7-4895-d50a-5effc9af85fc"
      },
      "execution_count": 2,
      "outputs": [
        {
          "output_type": "stream",
          "name": "stdout",
          "text": [
            "Drive already mounted at /content/drive; to attempt to forcibly remount, call drive.mount(\"/content/drive\", force_remount=True).\n"
          ]
        }
      ]
    },
    {
      "cell_type": "markdown",
      "source": [
        "# Data Cleanup\n",
        "The script below creates a CSV suitable for importing into AD using the ADManagerPlus applicaiton.\n",
        "\n",
        "1. Go to Husky Hub --> Core --> Reporting --> Manage Lists\n",
        "2. Choose \"Manage basic and advanced lists\"\n",
        "3. Edit \"Incoming Students\" list\n",
        "4. In the Filters tab, change the \"on or after date\" filter as needed.\n",
        "5. Click \"Preview\"\n",
        "6. Click \"Export\" and save the file as \"NewStudents_FH.csv\" in the folder ColabData in the shared Technology drive folder. Replace the existing file.\n",
        "\n",
        "\n",
        "\n",
        "\n"
      ],
      "metadata": {
        "id": "qdz3bMoqVpfU"
      }
    },
    {
      "cell_type": "code",
      "source": [
        "import csv\n",
        "import random\n",
        "import string\n",
        "import datetime\n",
        "\n",
        "def get_random_password():\n",
        "  # Generates a random password\n",
        "  words = [line.strip() for line in open(\"/content/drive/Shareddrives/Technology/ColabData/membean6.txt\", \"r\")]\n",
        "  word1 = random.choice(words).capitalize()\n",
        "  word2 = random.choice(words).capitalize()[0:2]\n",
        "  number = random.randint(100, 999)\n",
        "  special = random.choice(string.punctuation)\n",
        "  return f\"{word1}{special}{number}\"\n",
        "\n",
        "def process_student_data(student):\n",
        "  # Processes student data and returns a dictionary\n",
        "  last_name = student[\"LastName\"].replace(\" \", \"\")\n",
        "  short_last_name = last_name if len(last_name) < 5 else last_name[:5]\n",
        "\n",
        "  campus = \"EastCampusStudents\" if int(student[\"GradYear\"]) > 2030 else \"WestCampusStudents\"\n",
        "\n",
        "  building = \"LSStudents\" if int(student[\"GradYear\"]) > 2030 else (\n",
        "      \"MSStudents\" if int(student[\"GradYear\"]) > 2028 else \"USStudents\"\n",
        "  )\n",
        "\n",
        "  password = get_random_password()\n",
        "\n",
        "  return {\n",
        "      \"givenName\": student[\"PreferredName\"],\n",
        "      \"initials\": student[\"MiddleName\"][0] if student[\"MiddleName\"] else \"\",\n",
        "      \"sn\": student[\"LastName\"],\n",
        "      \"password\": password,\n",
        "      \"description\": f\"Class of {student['GradYear']}\",\n",
        "      \"department\": f\"Class of {student['GradYear']}\",\n",
        "      \"OUName\": f\"OU={student['GradYear']},OU=Students,OU=FHS-Users,DC=FLINTHILL,DC=ORG\",\n",
        "      \"userAccountControl\": \"512\",\n",
        "      \"memberOf\": f'\"CN=Student,OU=Groups,OU=FHS-Users,DC=FLINTHILL,DC=ORG;CN={building},OU=Groups,OU=FHS-Users,DC=FLINTHILL,DC=ORG;CN={campus},OU=Groups,OU=FHS-Users,DC=FLINTHILL,DC=ORG\"',\n",
        "      \"gappsOrgUnitPath\": f\"/Students/{student['GradYear']}\",\n",
        "      \"gappsGroupEmail\": f\"{student['GradYear']}@flinthill.org\",\n",
        "      \"templateName\": \"FHSStudentUsers\",\n",
        "      \"userid\" : student[\"UserID\"],\n",
        "      \"username\": student['FirstName'][0].lower() + last_name.lower(),\n",
        "      \"email\": f\"{student['FirstName'][0].lower()}{last_name.lower()}@flinthill.org\",\n",
        "      \"ipphone\": student['FirstName'][0].lower() + short_last_name.lower(),\n",
        "  }\n",
        "\n",
        "# Read student data from CSV\n",
        "with open(\"/content/drive/Shareddrives/Technology/ColabData/NewStudents_FH.csv\") as csvfile:\n",
        "  reader = csv.DictReader(csvfile)\n",
        "  student_data = [process_student_data(student) for student in reader]\n",
        "\n",
        "# Get today's date in YYYYMMDD format\n",
        "today = datetime.date.today().strftime(\"%Y%m%d\")\n",
        "\n",
        "# Construct the output filename with date prefix\n",
        "output_filename = f\"FHStudentsReadyForImport_{today}.csv\"\n",
        "\n",
        "with open(\"/content/drive/Shareddrives/Technology/User Accounts/2024-2025/\" + output_filename, \"w\", newline=\"\") as csvfile:\n",
        "    fieldnames = student_data[0].keys()\n",
        "    writer = csv.DictWriter(csvfile, fieldnames=fieldnames)\n",
        "    writer.writeheader()\n",
        "    writer.writerows(student_data)\n",
        "\n",
        "print(f\"Student data processed and written to {output_filename}\")"
      ],
      "metadata": {
        "colab": {
          "base_uri": "https://localhost:8080/"
        },
        "id": "9E_ieCQ-GMfQ",
        "outputId": "1cfd45be-85a8-4704-83b2-405cd7d39464"
      },
      "execution_count": null,
      "outputs": [
        {
          "output_type": "stream",
          "name": "stdout",
          "text": [
            "Student data processed and written to FHStudentsReadyForImport_20241120.csv\n"
          ]
        }
      ]
    },
    {
      "cell_type": "markdown",
      "source": [
        "# Add to new students file\n",
        "Writes all students who have enrolled in the 2024-2025 school year to a csv file called NewStudents"
      ],
      "metadata": {
        "id": "Z8t8TLqgVqU1"
      }
    },
    {
      "cell_type": "code",
      "source": [
        "import pandas as pd\n",
        "import os\n",
        "\n",
        "def filter_and_write(input_file, output_file, filter_condition):\n",
        "    \"\"\"\n",
        "    Filters data from an input CSV file based on a given condition and writes the filtered data to a new output CSV file.\n",
        "\n",
        "    Args:\n",
        "        input_file: Path to the input CSV file.\n",
        "        output_file: Path to the output CSV file.\n",
        "        filter_condition: A boolean expression to filter the data.\n",
        "    \"\"\"\n",
        "\n",
        "    try:\n",
        "        # Read the original CSV, including the header\n",
        "        df = pd.read_csv(input_file)\n",
        "\n",
        "        # Ensure the 'Student ID' column is treated as a string directly on the DataFrame\n",
        "        df['Student ID'] = df['Student ID'].astype(int)\n",
        "\n",
        "        # Filter the data\n",
        "        filtered_df = df[filter_condition]\n",
        "\n",
        "        # Write the filtered data to the output CSV, including the header\n",
        "        filtered_df.to_csv(output_file, index=False)\n",
        "\n",
        "    except FileNotFoundError:\n",
        "        print(\"Input or output file not found.\")\n",
        "    except PermissionError:\n",
        "        print(\"Permission denied to access files.\")\n",
        "\n",
        "# Example usage:\n",
        "input_file = \"/content/drive/Shareddrives/Technology/User Accounts/Student Account Information/StudentMain/AllStudents.csv\"\n",
        "output_csv = \"/content/drive/Shareddrives/Technology/User Accounts/Student Account Information/StudentMain/NewStudents.csv\"\n",
        "\n",
        "filter_and_write(input_file, output_csv, df['School Year Enrolled'] == '2024-2025')"
      ],
      "metadata": {
        "id": "eWxuPd7E5NDT",
        "colab": {
          "base_uri": "https://localhost:8080/",
          "height": 176
        },
        "outputId": "10357529-bf90-4d3b-cb76-546e1095c33f"
      },
      "execution_count": 1,
      "outputs": [
        {
          "output_type": "error",
          "ename": "NameError",
          "evalue": "name 'df' is not defined",
          "traceback": [
            "\u001b[0;31m---------------------------------------------------------------------------\u001b[0m",
            "\u001b[0;31mNameError\u001b[0m                                 Traceback (most recent call last)",
            "\u001b[0;32m<ipython-input-1-3fe4d43ed8fe>\u001b[0m in \u001b[0;36m<cell line: 36>\u001b[0;34m()\u001b[0m\n\u001b[1;32m     34\u001b[0m \u001b[0moutput_csv\u001b[0m \u001b[0;34m=\u001b[0m \u001b[0;34m\"/content/drive/Shareddrives/Technology/User Accounts/Student Account Information/StudentMain/NewStudents.csv\"\u001b[0m\u001b[0;34m\u001b[0m\u001b[0;34m\u001b[0m\u001b[0m\n\u001b[1;32m     35\u001b[0m \u001b[0;34m\u001b[0m\u001b[0m\n\u001b[0;32m---> 36\u001b[0;31m \u001b[0mfilter_and_write\u001b[0m\u001b[0;34m(\u001b[0m\u001b[0minput_file\u001b[0m\u001b[0;34m,\u001b[0m \u001b[0moutput_csv\u001b[0m\u001b[0;34m,\u001b[0m \u001b[0mdf\u001b[0m\u001b[0;34m[\u001b[0m\u001b[0;34m'School Year Enrolled'\u001b[0m\u001b[0;34m]\u001b[0m \u001b[0;34m==\u001b[0m \u001b[0;34m'2024-2025'\u001b[0m\u001b[0;34m)\u001b[0m\u001b[0;34m\u001b[0m\u001b[0;34m\u001b[0m\u001b[0m\n\u001b[0m",
            "\u001b[0;31mNameError\u001b[0m: name 'df' is not defined"
          ]
        }
      ]
    },
    {
      "cell_type": "markdown",
      "source": [
        "# Encrypt"
      ],
      "metadata": {
        "id": "DILIbrfSI7pk"
      }
    },
    {
      "cell_type": "code",
      "source": [
        "alphabet = \"ABCDEFGHIJKLMNOPQRSTUVWXYZabcdefghijklmnopqrstuvwxyz0123456789()$&@?!\"\n",
        "cryptabet = \"JL$3frKkh1j2VvHBP&CEs7@tz!l9SdXFYayMcTbogx0wI(DpneG6mO5NZQ)Wqi?R8U4Au\"\n",
        "\n",
        "def scramble(msg):\n",
        "  \"\"\"Encrypts a message using a character mapping.\"\"\"\n",
        "  mapping = str.maketrans(alphabet, cryptabet)\n",
        "  return msg.translate(mapping)\n",
        "\n",
        "def unscramble(code):\n",
        "  \"\"\"Decrypts a message using a character mapping.\"\"\"\n",
        "  mapping = str.maketrans(cryptabet, alphabet)\n",
        "  return code.translate(mapping)\n",
        "\n",
        "message = \"Diablo%809\"\n",
        "encrypted_message = scramble(message)\n",
        "print(encrypted_message)  # Output: TBPPR, ZLFRR!\n",
        "\n",
        "decrypted_message = unscramble(encrypted_message)\n",
        "print(decrypted_message)  # Output: Hello, world!"
      ],
      "metadata": {
        "colab": {
          "base_uri": "https://localhost:8080/"
        },
        "id": "By4xTHWdI-ix",
        "outputId": "149c3494-3fa5-4556-df82-6aa009b6dc17"
      },
      "execution_count": 28,
      "outputs": [
        {
          "output_type": "stream",
          "name": "stdout",
          "text": [
            "3yl9Tg%qmi\n",
            "Diablo%809\n"
          ]
        }
      ]
    },
    {
      "cell_type": "code",
      "source": [
        "def read_cipher_from_file(filename):\n",
        "    try:\n",
        "        with open(filename, 'r') as f:\n",
        "            lines = f.readlines()\n",
        "            alphabet = lines[0].strip().split(': ')[1]\n",
        "            cryptabet = lines[1].strip().split(': ')[1]\n",
        "            return alphabet, cryptabet\n",
        "    except (FileNotFoundError, IndexError) as e:\n",
        "        print(f\"Error reading cipher file: {e}\")\n",
        "        return None, None\n",
        "\n",
        "def scramble(msg, alphabet, cryptabet):\n",
        "    mapping = str.maketrans(alphabet, cryptabet)\n",
        "    return msg.translate(mapping)\n",
        "\n",
        "def unscramble(code, alphabet, cryptabet):\n",
        "    mapping = str.maketrans(cryptabet, alphabet)\n",
        "    return code.translate(mapping)\n",
        "\n",
        "# Assuming the cipher file is in the same directory as your script\n",
        "filename = \"/content/drive/Shareddrives/Technology/User Accounts/Student Account Information/StudentMain/cipher.txt\"\n",
        "alphabet, cryptabet = read_cipher_from_file(filename)\n",
        "\n",
        "message = \"Diablo%809\"\n",
        "encrypted_message = scramble(message, alphabet, cryptabet)\n",
        "print(encrypted_message)\n",
        "\n",
        "decrypted_message = unscramble(encrypted_message, alphabet, cryptabet)\n",
        "print(decrypted_message)"
      ],
      "metadata": {
        "colab": {
          "base_uri": "https://localhost:8080/"
        },
        "id": "Km9p6uYWXym9",
        "outputId": "8e464faf-3ad8-4e0e-98c4-228d0413686a"
      },
      "execution_count": 31,
      "outputs": [
        {
          "output_type": "stream",
          "name": "stdout",
          "text": [
            "3yl9Tg%qmi\n",
            "Diablo%809\n"
          ]
        }
      ]
    },
    {
      "cell_type": "code",
      "source": [
        "import pandas as pd\n",
        "\n",
        "def read_cipher_from_file(filename):\n",
        "    with open(filename, 'r') as f:\n",
        "        lines = f.readlines()\n",
        "        alphabet = lines[0].strip().split(': ')[1]\n",
        "        cryptabet = lines[1].strip().split(': ')[1]\n",
        "        return alphabet, cryptabet\n",
        "\n",
        "def scramble(msg, alphabet, cryptabet):\n",
        "    mapping = str.maketrans(alphabet, cryptabet)\n",
        "    return msg.translate(mapping)\n",
        "\n",
        "def unscramble(code, alphabet, cryptabet):\n",
        "    mapping = str.maketrans(cryptabet, alphabet)\n",
        "    return code.translate(mapping)\n",
        "\n",
        "# Read the cipher from the file\n",
        "filename = \"/content/drive/Shareddrives/Technology/User Accounts/Student Account Information/StudentMain/cipher.txt\"\n",
        "alphabet, cryptabet = read_cipher_from_file(filename)\n",
        "\n",
        "# Read the CSV file\n",
        "df = pd.read_csv(\"/content/drive/Shareddrives/Technology/User Accounts/Student Account Information/StudentMain/AllStudents.csv\")\n",
        "\n",
        "# Apply the encryption/decryption function to a specific column\n",
        "df['encrypted_column'] = df['Student Pwd'].apply(lambda x: scramble(x, alphabet, cryptabet))\n",
        "\n",
        "# Write the new CSV file\n",
        "df.to_csv(\"/content/drive/Shareddrives/Technology/User Accounts/Student Account Information/StudentMain/encrypted_output.csv\", index=False)"
      ],
      "metadata": {
        "id": "tQoXapkLb326"
      },
      "execution_count": 23,
      "outputs": []
    }
  ]
}