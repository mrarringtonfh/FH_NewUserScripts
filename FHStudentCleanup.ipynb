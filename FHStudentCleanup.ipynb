{
  "nbformat": 4,
  "nbformat_minor": 0,
  "metadata": {
    "colab": {
      "provenance": [],
      "mount_file_id": "1cl_hNN2alF5sU3FHK247S2Jva3fyNvsX",
      "authorship_tag": "ABX9TyNYQTFt3lIPwCKyfHYbJElW",
      "include_colab_link": true
    },
    "kernelspec": {
      "name": "python3",
      "display_name": "Python 3"
    },
    "language_info": {
      "name": "python"
    }
  },
  "cells": [
    {
      "cell_type": "markdown",
      "metadata": {
        "id": "view-in-github",
        "colab_type": "text"
      },
      "source": [
        "<a href=\"https://colab.research.google.com/github/mrarringtonfh/FH_NewUserScripts/blob/main/FHStudentCleanup.ipynb\" target=\"_parent\"><img src=\"https://colab.research.google.com/assets/colab-badge.svg\" alt=\"Open In Colab\"/></a>"
      ]
    },
    {
      "cell_type": "code",
      "source": [
        "from google.colab import drive\n",
        "drive.mount('/content/drive')"
      ],
      "metadata": {
        "colab": {
          "base_uri": "https://localhost:8080/"
        },
        "id": "NpB5jE3gh6j2",
        "outputId": "9f577b8d-2e8a-4341-e4d2-2582912fd051"
      },
      "execution_count": 37,
      "outputs": [
        {
          "output_type": "stream",
          "name": "stdout",
          "text": [
            "Mounted at /content/drive\n"
          ]
        }
      ]
    },
    {
      "cell_type": "code",
      "source": [
        "import csv\n",
        "import random\n",
        "import string\n",
        "import datetime\n",
        "\n",
        "def get_random_password():\n",
        "  # Generates a random password\n",
        "  words = [line.strip() for line in open(\"/content/drive/Shareddrives/Technology/ColabData/membean6.txt\", \"r\")]\n",
        "  word1 = random.choice(words).capitalize()\n",
        "  word2 = random.choice(words).capitalize()[0:2]\n",
        "  number = random.randint(100, 999)\n",
        "  special = random.choice(string.punctuation)\n",
        "  return f\"{word1}{special}{number}\"\n",
        "\n",
        "def process_student_data(student):\n",
        "  # Processes student data and returns a dictionary\n",
        "  last_name = student[\"LastName\"].replace(\" \", \"\")\n",
        "  short_last_name = last_name if len(last_name) < 5 else last_name[:5]\n",
        "\n",
        "  campus = \"EastCampusStudents\" if int(student[\"GradYear\"]) > 2030 else \"WestCampusStudents\"\n",
        "\n",
        "  building = \"LSStudents\" if int(student[\"GradYear\"]) > 2030 else (\n",
        "      \"MSStudents\" if int(student[\"GradYear\"]) > 2028 else \"USStudents\"\n",
        "  )\n",
        "\n",
        "  password = get_random_password()\n",
        "\n",
        "  return {\n",
        "      \"givenName\": student[\"PreferredName\"],\n",
        "      \"initials\": student[\"MiddleName\"][0] if student[\"MiddleName\"] else \"\",\n",
        "      \"sn\": student[\"LastName\"],\n",
        "      \"password\": password,\n",
        "      \"description\": f\"Class of {student['GradYear']}\",\n",
        "      \"department\": f\"Class of {student['GradYear']}\",\n",
        "      \"OUName\": f\"OU={student['GradYear']},OU=Students,OU=FHS-Users,DC=FLINTHILL,DC=ORG\",\n",
        "      \"userAccountControl\": \"512\",\n",
        "      \"memberOf\": f'\"CN=Student,OU=Groups,OU=FHS-Users,DC=FLINTHILL,DC=ORG;CN={building},OU=Groups,OU=FHS-Users,DC=FLINTHILL,DC=ORG;CN={campus},OU=Groups,OU=FHS-Users,DC=FLINTHILL,DC=ORG\"',\n",
        "      \"gappsOrgUnitPath\": f\"/Students/{student['GradYear']}\",\n",
        "      \"gappsGroupEmail\": f\"{student['GradYear']}@flinthill.org\",\n",
        "      \"templateName\": \"FHSStudentUsers\",\n",
        "      \"userid\" : student[\"UserID\"],\n",
        "      \"username\": student['FirstName'][0].lower() + last_name.lower(),\n",
        "      \"email\": f\"{student['FirstName'][0].lower()}{last_name.lower()}@flinthill.org\",\n",
        "      \"ipphone\": student['FirstName'][0].lower() + short_last_name.lower(),\n",
        "  }\n",
        "\n",
        "# Read student data from CSV\n",
        "with open(\"/content/drive/Shareddrives/Technology/ColabData/NewStudents_FH.csv\") as csvfile:\n",
        "  reader = csv.DictReader(csvfile)\n",
        "  student_data = [process_student_data(student) for student in reader]\n",
        "\n",
        "# Get today's date in YYYYMMDD format\n",
        "today = datetime.date.today().strftime(\"%Y%m%d\")\n",
        "\n",
        "# Construct the output filename with date prefix\n",
        "output_filename = f\"FHStudentsReadyForImport_{today}.csv\"\n",
        "\n",
        "with open(\"/content/drive/Shareddrives/Technology/ColabData/\" + output_filename, \"w\", newline=\"\") as csvfile:\n",
        "    fieldnames = student_data[0].keys()\n",
        "    writer = csv.DictWriter(csvfile, fieldnames=fieldnames)\n",
        "    writer.writeheader()\n",
        "    writer.writerows(student_data)\n",
        "\n",
        "print(f\"Student data processed and written to {output_filename}\")"
      ],
      "metadata": {
        "colab": {
          "base_uri": "https://localhost:8080/"
        },
        "id": "9E_ieCQ-GMfQ",
        "outputId": "510e38e7-4b51-4e12-f20a-cf3f9abb2c29"
      },
      "execution_count": 76,
      "outputs": [
        {
          "output_type": "stream",
          "name": "stdout",
          "text": [
            "Student data processed and written to FHStudentsReadyForImport_20241118.csv\n"
          ]
        }
      ]
    }
  ]
}